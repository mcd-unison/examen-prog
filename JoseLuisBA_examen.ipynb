{
 "cells": [
  {
   "cell_type": "markdown",
   "id": "8541088f",
   "metadata": {},
   "source": [
    "# Examen de Conocimiento - MCD Unison \n",
    "## Por: jose Luis Bracamonte Amavizca\n",
    "\n",
    "### Crgando librerias de python requeridas\n",
    "\n",
    "**NOTA**: es necesario instalar la libreria de python `openpyxl` ya que para la lecura de archivos exel \n",
    "es necesaria, puede instalarse de la siguiente manera utilizando pip:\n",
    "```bash\n",
    "pip install openpyxl\n",
    "```"
   ]
  },
  {
   "cell_type": "code",
   "execution_count": 1,
   "id": "9a5e5a91",
   "metadata": {},
   "outputs": [],
   "source": [
    "import os\n",
    "import numpy as np\n",
    "import matplotlib.pyplot as plt\n",
    "import pandas as pd\n",
    "from IPython.display import Markdown as md\n",
    "%matplotlib inline"
   ]
  },
  {
   "cell_type": "markdown",
   "id": "fa0a3888",
   "metadata": {},
   "source": [
    "## 1 - Proyecto\n",
    "\n",
    "1. Fork del repositorio del [examen](https://github.com/mcd-unison/examen-prog) en mi cuenta de github [luisjba/examwen-prog](https://github.com/luisjba/examen-prog).\n",
    "\n",
    "2. Clonacion del repositorio en mi computadora local con el siguiente utilizando el siguiente comando:\n",
    "```bash\n",
    "git clone git@github.com:luisjba/examen-prog.git\n",
    "```\n",
    "3. Lenguage seleccionado: **Python en una libreta de Jupyter Notebook**.\n",
    "\n",
    "## Lectura y procesamiento de datos\n",
    "\n",
    "1. Leer Archivos `covid-data/200511COVID19MEXICO.csv` y `Catalogos_0412.xlsx`."
   ]
  },
  {
   "cell_type": "code",
   "execution_count": 20,
   "id": "ddcd6476",
   "metadata": {},
   "outputs": [],
   "source": [
    "# lectura del archivo csv para futura manipulacion\n",
    "dataset = pd.read_csv('./covid-data/200511COVID19MEXICO.csv', encoding='latin 1')\n",
    "\n",
    "# lecura del archivo exel 'Catalogos_0412.xlsx', el cual contiene\n",
    "# la resultado de SARS-COV-2 en la hoja 'Catálogo RESULTADO', seleccionado la columna 'CLAVE'\n",
    "# como index y saltamos 2 renglones para inidicar donde inician los datos.\n",
    "df_dictionary_resultado = pd.read_excel('./covid-data/Catalogos_0412.xlsx',\n",
    "                                    sheet_name='Catálogo RESULTADO',\n",
    "                                    index_col=1, #CLAVE \n",
    "                                    skiprows=1, \n",
    "                                    engine='openpyxl')"
   ]
  },
  {
   "cell_type": "markdown",
   "id": "cc46ec94",
   "metadata": {},
   "source": [
    "#### Explorando dataset\n",
    "\n",
    "Mostrando las columnas"
   ]
  },
  {
   "cell_type": "code",
   "execution_count": 32,
   "id": "2434dd42",
   "metadata": {},
   "outputs": [
    {
     "data": {
      "text/html": [
       "<div>\n",
       "<style scoped>\n",
       "    .dataframe tbody tr th:only-of-type {\n",
       "        vertical-align: middle;\n",
       "    }\n",
       "\n",
       "    .dataframe tbody tr th {\n",
       "        vertical-align: top;\n",
       "    }\n",
       "\n",
       "    .dataframe thead th {\n",
       "        text-align: right;\n",
       "    }\n",
       "</style>\n",
       "<table border=\"1\" class=\"dataframe\">\n",
       "  <thead>\n",
       "    <tr style=\"text-align: right;\">\n",
       "      <th></th>\n",
       "      <th>FECHA_ACTUALIZACION</th>\n",
       "      <th>ID_REGISTRO</th>\n",
       "      <th>ORIGEN</th>\n",
       "      <th>SECTOR</th>\n",
       "      <th>ENTIDAD_UM</th>\n",
       "      <th>SEXO</th>\n",
       "      <th>ENTIDAD_NAC</th>\n",
       "      <th>ENTIDAD_RES</th>\n",
       "      <th>MUNICIPIO_RES</th>\n",
       "      <th>TIPO_PACIENTE</th>\n",
       "      <th>...</th>\n",
       "      <th>CARDIOVASCULAR</th>\n",
       "      <th>OBESIDAD</th>\n",
       "      <th>RENAL_CRONICA</th>\n",
       "      <th>TABAQUISMO</th>\n",
       "      <th>OTRO_CASO</th>\n",
       "      <th>RESULTADO</th>\n",
       "      <th>MIGRANTE</th>\n",
       "      <th>PAIS_NACIONALIDAD</th>\n",
       "      <th>PAIS_ORIGEN</th>\n",
       "      <th>UCI</th>\n",
       "    </tr>\n",
       "  </thead>\n",
       "  <tbody>\n",
       "    <tr>\n",
       "      <td>0</td>\n",
       "      <td>2020-05-11</td>\n",
       "      <td>07f569</td>\n",
       "      <td>2</td>\n",
       "      <td>3</td>\n",
       "      <td>27</td>\n",
       "      <td>2</td>\n",
       "      <td>27</td>\n",
       "      <td>27</td>\n",
       "      <td>4</td>\n",
       "      <td>1</td>\n",
       "      <td>...</td>\n",
       "      <td>1</td>\n",
       "      <td>2</td>\n",
       "      <td>2</td>\n",
       "      <td>2</td>\n",
       "      <td>1</td>\n",
       "      <td>1</td>\n",
       "      <td>99</td>\n",
       "      <td>MÃ©xico</td>\n",
       "      <td>99</td>\n",
       "      <td>97</td>\n",
       "    </tr>\n",
       "    <tr>\n",
       "      <td>1</td>\n",
       "      <td>2020-05-11</td>\n",
       "      <td>0b0e89</td>\n",
       "      <td>2</td>\n",
       "      <td>3</td>\n",
       "      <td>25</td>\n",
       "      <td>2</td>\n",
       "      <td>25</td>\n",
       "      <td>25</td>\n",
       "      <td>6</td>\n",
       "      <td>2</td>\n",
       "      <td>...</td>\n",
       "      <td>2</td>\n",
       "      <td>2</td>\n",
       "      <td>2</td>\n",
       "      <td>1</td>\n",
       "      <td>2</td>\n",
       "      <td>1</td>\n",
       "      <td>99</td>\n",
       "      <td>MÃ©xico</td>\n",
       "      <td>99</td>\n",
       "      <td>2</td>\n",
       "    </tr>\n",
       "    <tr>\n",
       "      <td>2</td>\n",
       "      <td>2020-05-11</td>\n",
       "      <td>0ecd46</td>\n",
       "      <td>2</td>\n",
       "      <td>3</td>\n",
       "      <td>27</td>\n",
       "      <td>1</td>\n",
       "      <td>27</td>\n",
       "      <td>27</td>\n",
       "      <td>4</td>\n",
       "      <td>1</td>\n",
       "      <td>...</td>\n",
       "      <td>2</td>\n",
       "      <td>2</td>\n",
       "      <td>2</td>\n",
       "      <td>2</td>\n",
       "      <td>2</td>\n",
       "      <td>1</td>\n",
       "      <td>99</td>\n",
       "      <td>MÃ©xico</td>\n",
       "      <td>99</td>\n",
       "      <td>97</td>\n",
       "    </tr>\n",
       "    <tr>\n",
       "      <td>3</td>\n",
       "      <td>2020-05-11</td>\n",
       "      <td>12eb62</td>\n",
       "      <td>2</td>\n",
       "      <td>3</td>\n",
       "      <td>25</td>\n",
       "      <td>1</td>\n",
       "      <td>25</td>\n",
       "      <td>25</td>\n",
       "      <td>6</td>\n",
       "      <td>2</td>\n",
       "      <td>...</td>\n",
       "      <td>2</td>\n",
       "      <td>2</td>\n",
       "      <td>2</td>\n",
       "      <td>2</td>\n",
       "      <td>2</td>\n",
       "      <td>1</td>\n",
       "      <td>99</td>\n",
       "      <td>MÃ©xico</td>\n",
       "      <td>99</td>\n",
       "      <td>2</td>\n",
       "    </tr>\n",
       "    <tr>\n",
       "      <td>4</td>\n",
       "      <td>2020-05-11</td>\n",
       "      <td>032c9a</td>\n",
       "      <td>2</td>\n",
       "      <td>3</td>\n",
       "      <td>25</td>\n",
       "      <td>2</td>\n",
       "      <td>25</td>\n",
       "      <td>25</td>\n",
       "      <td>6</td>\n",
       "      <td>2</td>\n",
       "      <td>...</td>\n",
       "      <td>2</td>\n",
       "      <td>2</td>\n",
       "      <td>2</td>\n",
       "      <td>2</td>\n",
       "      <td>2</td>\n",
       "      <td>1</td>\n",
       "      <td>99</td>\n",
       "      <td>MÃ©xico</td>\n",
       "      <td>99</td>\n",
       "      <td>2</td>\n",
       "    </tr>\n",
       "  </tbody>\n",
       "</table>\n",
       "<p>5 rows × 35 columns</p>\n",
       "</div>"
      ],
      "text/plain": [
       "  FECHA_ACTUALIZACION ID_REGISTRO  ORIGEN  SECTOR  ENTIDAD_UM  SEXO  \\\n",
       "0          2020-05-11      07f569       2       3          27     2   \n",
       "1          2020-05-11      0b0e89       2       3          25     2   \n",
       "2          2020-05-11      0ecd46       2       3          27     1   \n",
       "3          2020-05-11      12eb62       2       3          25     1   \n",
       "4          2020-05-11      032c9a       2       3          25     2   \n",
       "\n",
       "   ENTIDAD_NAC  ENTIDAD_RES  MUNICIPIO_RES  TIPO_PACIENTE  ... CARDIOVASCULAR  \\\n",
       "0           27           27              4              1  ...              1   \n",
       "1           25           25              6              2  ...              2   \n",
       "2           27           27              4              1  ...              2   \n",
       "3           25           25              6              2  ...              2   \n",
       "4           25           25              6              2  ...              2   \n",
       "\n",
       "  OBESIDAD RENAL_CRONICA  TABAQUISMO  OTRO_CASO  RESULTADO  MIGRANTE  \\\n",
       "0        2             2           2          1          1        99   \n",
       "1        2             2           1          2          1        99   \n",
       "2        2             2           2          2          1        99   \n",
       "3        2             2           2          2          1        99   \n",
       "4        2             2           2          2          1        99   \n",
       "\n",
       "   PAIS_NACIONALIDAD  PAIS_ORIGEN  UCI  \n",
       "0            MÃ©xico           99   97  \n",
       "1            MÃ©xico           99    2  \n",
       "2            MÃ©xico           99   97  \n",
       "3            MÃ©xico           99    2  \n",
       "4            MÃ©xico           99    2  \n",
       "\n",
       "[5 rows x 35 columns]"
      ]
     },
     "execution_count": 32,
     "metadata": {},
     "output_type": "execute_result"
    }
   ],
   "source": [
    "dataset.head()"
   ]
  },
  {
   "cell_type": "markdown",
   "id": "b3b82461",
   "metadata": {},
   "source": [
    "#### Explorando diccionario de catalogo de resultados"
   ]
  },
  {
   "cell_type": "code",
   "execution_count": 21,
   "id": "9e42f1f4",
   "metadata": {},
   "outputs": [
    {
     "data": {
      "text/html": [
       "<div>\n",
       "<style scoped>\n",
       "    .dataframe tbody tr th:only-of-type {\n",
       "        vertical-align: middle;\n",
       "    }\n",
       "\n",
       "    .dataframe tbody tr th {\n",
       "        vertical-align: top;\n",
       "    }\n",
       "\n",
       "    .dataframe thead th {\n",
       "        text-align: right;\n",
       "    }\n",
       "</style>\n",
       "<table border=\"1\" class=\"dataframe\">\n",
       "  <thead>\n",
       "    <tr style=\"text-align: right;\">\n",
       "      <th></th>\n",
       "      <th>CLAVE</th>\n",
       "    </tr>\n",
       "    <tr>\n",
       "      <th>DESCRIPCIÓN</th>\n",
       "      <th></th>\n",
       "    </tr>\n",
       "  </thead>\n",
       "  <tbody>\n",
       "    <tr>\n",
       "      <td>Positivo SARS-CoV-2</td>\n",
       "      <td>1.0</td>\n",
       "    </tr>\n",
       "    <tr>\n",
       "      <td>No positivo SARS-CoV-2</td>\n",
       "      <td>2.0</td>\n",
       "    </tr>\n",
       "    <tr>\n",
       "      <td>Resultado pendiente</td>\n",
       "      <td>3.0</td>\n",
       "    </tr>\n",
       "    <tr>\n",
       "      <td>NaN</td>\n",
       "      <td>NaN</td>\n",
       "    </tr>\n",
       "    <tr>\n",
       "      <td>NaN</td>\n",
       "      <td>NaN</td>\n",
       "    </tr>\n",
       "  </tbody>\n",
       "</table>\n",
       "</div>"
      ],
      "text/plain": [
       "                        CLAVE\n",
       "DESCRIPCIÓN                  \n",
       "Positivo SARS-CoV-2       1.0\n",
       "No positivo SARS-CoV-2    2.0\n",
       "Resultado pendiente       3.0\n",
       "NaN                       NaN\n",
       "NaN                       NaN"
      ]
     },
     "execution_count": 21,
     "metadata": {},
     "output_type": "execute_result"
    }
   ],
   "source": [
    "df_dictionary_resultado.head()"
   ]
  },
  {
   "cell_type": "markdown",
   "id": "a971fb5e",
   "metadata": {},
   "source": [
    "2. Generar Tabla con 5 columnas (3 columnas, aclaracion en slack)\n",
    "    1. Fecha\n",
    "\n",
    "    2. Confirmados de SARS-CoV2 en Sonora por fecha usando la fecha de inicio de síntomas (no acumulados)\n",
    "\n",
    "    3. Decesos (entre los confirmados) por fecha."
   ]
  },
  {
   "cell_type": "code",
   "execution_count": 76,
   "id": "9504fd85",
   "metadata": {
    "scrolled": true
   },
   "outputs": [
    {
     "name": "stdout",
     "output_type": "stream",
     "text": [
      "Total de registros: 135,116\n"
     ]
    }
   ],
   "source": [
    "# Aclaracion por slack(julio.waisman): Ups, lo que quería decir es que la fecha a tomar en cuenta es la fecha de inicio de síntomas\n",
    "# Aclaracion por slack(julio.waisman):Ups, perdón, acabo de ver. Tuve problemas al actualizar el problema y al parecer no subió la versión final. Son sólo 3 columnas en este caso.\n",
    "\n",
    "#Seleccionado columnas de interes\n",
    "tabla1 = dataset[[\"ENTIDAD_RES\",\"FECHA_SINTOMAS\",\"FECHA_DEF\", \"RESULTADO\"]]\n",
    "print(\"Total de registros: {:,}\".format(tabla1.shape[0]))"
   ]
  },
  {
   "cell_type": "markdown",
   "id": "9809a167",
   "metadata": {},
   "source": [
    "El diccionario de resultados indica que para los casos **'Positivo SARS-CoV-2'**, la columna `RESULTADO` toma valor de `1`. Utilizaremos ese dato para filtar los casos positivos.\n"
   ]
  },
  {
   "cell_type": "code",
   "execution_count": 77,
   "id": "b72c9920",
   "metadata": {},
   "outputs": [
    {
     "name": "stdout",
     "output_type": "stream",
     "text": [
      "Total de casos Positivo SARS-CoV-2: 36,327\n"
     ]
    }
   ],
   "source": [
    "tabla1 = tabla1.loc[tabla1[\"RESULTADO\"] == 1, :]\n",
    "print(\"Total de casos Positivo SARS-CoV-2: {:,}\".format(tabla1.shape[0]))"
   ]
  },
  {
   "cell_type": "markdown",
   "id": "5fee41b8",
   "metadata": {},
   "source": [
    "Para filtrar los casos pertenecientes en Sonora, utilizaremos la columna `ENTIDAD_RES` con el valor 26 que corresponde al estado de Sonora."
   ]
  },
  {
   "cell_type": "code",
   "execution_count": 78,
   "id": "c5d31ba4",
   "metadata": {},
   "outputs": [
    {
     "name": "stdout",
     "output_type": "stream",
     "text": [
      "Total de casos Positivo SARS-CoV-2 en Sonora: 541\n"
     ]
    }
   ],
   "source": [
    "tabla1 = tabla1.loc[tabla1[\"ENTIDAD_RES\"] == 26, :]\n",
    "print(\"Total de casos Positivo SARS-CoV-2 en Sonora: {:,}\".format(tabla1.shape[0]))"
   ]
  },
  {
   "cell_type": "markdown",
   "id": "3bf03376",
   "metadata": {},
   "source": [
    "La columna de `FECHA_DEF` para valores diferentes a **'9999-99-99'** se considera que es un deceso. Utilizaremos ese valor para filtar los casos de deceso."
   ]
  },
  {
   "cell_type": "code",
   "execution_count": 79,
   "id": "e40021f8",
   "metadata": {},
   "outputs": [
    {
     "name": "stdout",
     "output_type": "stream",
     "text": [
      "Total Decesos en casos Positivo SARS-CoV-2 en Sonora: 33\n"
     ]
    }
   ],
   "source": [
    "tabla1 = tabla1.loc[tabla1[\"FECHA_DEF\"] != '9999-99-99', :]\n",
    "print(\"Total Decesos en casos Positivo SARS-CoV-2 en Sonora: {:,}\".format(tabla1.shape[0]))"
   ]
  },
  {
   "cell_type": "markdown",
   "id": "fb5d01e1",
   "metadata": {},
   "source": [
    "3. Guardar la tabla como tabla1.csv, realizar un commit en el reposi- torio de GitHub."
   ]
  },
  {
   "cell_type": "code",
   "execution_count": 80,
   "id": "85ae4645",
   "metadata": {},
   "outputs": [],
   "source": [
    "tabla1.to_csv('./covid-data/tabla1.csv')"
   ]
  },
  {
   "cell_type": "markdown",
   "id": "51e1050b",
   "metadata": {},
   "source": [
    "4. Generar una tabla con la cantidad de casos hospitalizados en los estados de\n",
    "    **Sonora**, **Chihuahua**, **Nuevo León** y **Puebla**."
   ]
  },
  {
   "cell_type": "code",
   "execution_count": 81,
   "id": "d8daea09",
   "metadata": {},
   "outputs": [
    {
     "name": "stdout",
     "output_type": "stream",
     "text": [
      "Total de registros: 135,116\n"
     ]
    }
   ],
   "source": [
    "#Seleccionado columnas de interes\n",
    "tabla2 = dataset[[\"ENTIDAD_RES\",\"UCI\"]]\n",
    "print(\"Total de registros: {:,}\".format(tabla2.shape[0]))"
   ]
  },
  {
   "cell_type": "markdown",
   "id": "01ebfc67",
   "metadata": {},
   "source": [
    "La columns `UCI` con valores de 1, inidica que si requirio Hospitalizacion. Utilizaremos ese valor para fisltrar los hospitalizados."
   ]
  },
  {
   "cell_type": "code",
   "execution_count": 82,
   "id": "8a29fee2",
   "metadata": {},
   "outputs": [
    {
     "name": "stdout",
     "output_type": "stream",
     "text": [
      "Total de casos hospitalizados: 2,893\n"
     ]
    }
   ],
   "source": [
    "tabla2 = tabla2.loc[tabla2[\"UCI\"] == 1, :]\n",
    "print(\"Total de casos hospitalizados: {:,}\".format(tabla2.shape[0]))"
   ]
  },
  {
   "cell_type": "markdown",
   "id": "89a0932c",
   "metadata": {},
   "source": [
    "Los estados de **Sonora**, **Chihuahua**, **Nuevo León** y **Puebla** contienen los valores [26, 8, 19, 21, ] respectivaente para la columna 'MUNICIPIO_RES'"
   ]
  },
  {
   "cell_type": "code",
   "execution_count": 116,
   "id": "4a9a59e6",
   "metadata": {},
   "outputs": [
    {
     "name": "stdout",
     "output_type": "stream",
     "text": [
      "Total de casos hospitalizados en Sonora, Chihuahua, Nuevo León y Puebla: 230\n"
     ]
    }
   ],
   "source": [
    "filtro_estados = (tabla2['ENTIDAD_RES'] == 26) | (tabla2['ENTIDAD_RES'] == 8) | (tabla2['ENTIDAD_RES'] == 19) | (tabla2['ENTIDAD_RES'] == 21)\n",
    "tabla2 = tabla2.loc[filtro_estados, :]\n",
    "print(\"Total de casos hospitalizados en Sonora, Chihuahua, Nuevo León y Puebla: {:,}\".format(tabla2.shape[0]))"
   ]
  },
  {
   "cell_type": "markdown",
   "id": "77790541",
   "metadata": {},
   "source": [
    "5. Guardar la tabla como tabla2.csv, realizar un commit en el reposi- torio de GitHub."
   ]
  },
  {
   "cell_type": "code",
   "execution_count": 117,
   "id": "0fc6ece9",
   "metadata": {},
   "outputs": [],
   "source": [
    "tabla2.to_csv('./covid-data/tabla2.csv')"
   ]
  },
  {
   "cell_type": "markdown",
   "id": "703e6a37",
   "metadata": {},
   "source": [
    " 6. Realizar dos gráficas y guardarlas en el repositorio como `grafica1.png` y\n",
    "    `grafica2.png`, las cuales contengan lo siguiente:\n",
    "\n",
    "    1. En `grafica1` realizar una gráfica de barras verticales con el número de\n",
    "       casos hospitalizados (de acuerdo a nuestro archivo) de los estados de\n",
    "       **Sonora**, **Chihuahua**, **Nuevo León** y **Puebla**.\n",
    "\n",
    "    2. En `grafica2` graficar la serie de tiempo de confirmados a nivel Nacional en el tiempo."
   ]
  },
  {
   "cell_type": "markdown",
   "id": "5bdc9d68",
   "metadata": {},
   "source": [
    "### Grafica1"
   ]
  },
  {
   "cell_type": "code",
   "execution_count": 140,
   "id": "380c4e6a",
   "metadata": {
    "scrolled": true
   },
   "outputs": [
    {
     "data": {
      "image/png": "[encoded data removed]",
      "text/plain": [
       "<Figure size 432x288 with 1 Axes>"
      ]
     },
     "metadata": {
      "needs_background": "light"
     },
     "output_type": "display_data"
    }
   ],
   "source": [
    "tabla2[\"estado\"] = tabla2[\"ENTIDAD_RES\"].astype(\"category\")\n",
    "tabla2[\"estado\"].cat.categories = [\"SON\", \"CHI\", \"N. L.\"]\n",
    "hist_hospitalizados = tabla2[\"estado\"].hist()\n",
    "hist_hospitalizados.set_title(\"Casos Hospitalizados en Sonora, Chihuahua, Nuevo Leon y Puebla\")\n",
    "hist_hospitalizados.set_ylabel(\"Total de Casos hospitalizados\")\n",
    "hist_hospitalizados.set_xlabel(\"Estados\")\n",
    "hist_hospitalizados.get_figure().savefig(\"./covid-data/grafica1.png\")"
   ]
  },
  {
   "cell_type": "markdown",
   "id": "5c1de28d",
   "metadata": {},
   "source": [
    "### Grafica2\n",
    "Graficar la serie de tiempo a de confirmados a nivel Nacional en el tiempo"
   ]
  },
  {
   "cell_type": "code",
   "execution_count": 161,
   "id": "4f0501d7",
   "metadata": {},
   "outputs": [
    {
     "name": "stderr",
     "output_type": "stream",
     "text": [
      "/Users/luisjba/opt/anaconda3/lib/python3.7/site-packages/pandas/plotting/_matplotlib/core.py:1182: UserWarning: FixedFormatter should only be used together with FixedLocator\n",
      "  ax.set_xticklabels(xticklabels)\n"
     ]
    },
    {
     "data": {
      "image/png": "[encoded data removed]",
      "text/plain": [
       "<Figure size 432x288 with 1 Axes>"
      ]
     },
     "metadata": {
      "needs_background": "light"
     },
     "output_type": "display_data"
    }
   ],
   "source": [
    "nacional_serie = dataset[[\"FECHA_SINTOMAS\",\"RESULTADO\"]]\n",
    "nacional_serie = nacional_serie.loc[nacional_serie[\"RESULTADO\"] == 1, :]\n",
    "nacional_serie[\"tiempo\"] = nacional_serie[\"FECHA_SINTOMAS\"].astype(\"category\")\n",
    "serie_confirmados = nacional_serie.groupby(\"tiempo\").sum().plot.line(rot=45)\n",
    "# serie_confirmados.set_xticklabels(nacional_serie[\"tiempo\"], rotation=35)\n",
    "serie_confirmados.set_title(\"Serie de tiempo de casos confirmados nivel Nacional\")\n",
    "serie_confirmados.set_ylabel(\"Total de Casos Confirmados\")\n",
    "serie_confirmados.set_xlabel(\"Dia\")\n",
    "serie_confirmados.get_figure().savefig(\"./covid-data/grafica2.png\")"
   ]
  }
 ],
 "metadata": {
  "kernelspec": {
   "display_name": "Python 3",
   "language": "python",
   "name": "python3"
  },
  "language_info": {
   "codemirror_mode": {
    "name": "ipython",
    "version": 3
   },
   "file_extension": ".py",
   "mimetype": "text/x-python",
   "name": "python",
   "nbconvert_exporter": "python",
   "pygments_lexer": "ipython3",
   "version": "3.7.4"
  }
 },
 "nbformat": 4,
 "nbformat_minor": 5
}
