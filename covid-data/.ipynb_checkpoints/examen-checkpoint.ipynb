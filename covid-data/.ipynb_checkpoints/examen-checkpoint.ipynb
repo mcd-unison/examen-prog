{
 "cells": [
  {
   "cell_type": "code",
   "execution_count": 1,
   "metadata": {},
   "outputs": [],
   "source": [
    "import pandas as pd"
   ]
  },
  {
   "cell_type": "code",
   "execution_count": null,
   "metadata": {},
   "outputs": [],
   "source": []
  },
  {
   "cell_type": "code",
   "execution_count": 2,
   "metadata": {},
   "outputs": [],
   "source": [
    "from matplotlib import pyplot as plot"
   ]
  },
  {
   "cell_type": "code",
   "execution_count": 3,
   "metadata": {},
   "outputs": [],
   "source": [
    "df = pd.read_csv(\"200511COVID19MEXICO.csv\", engine=\"python\")"
   ]
  },
  {
   "cell_type": "code",
   "execution_count": 4,
   "metadata": {},
   "outputs": [],
   "source": [
    "sonora_df = df[(df[\"ENTIDAD_UM\"]==26)]"
   ]
  },
  {
   "cell_type": "code",
   "execution_count": 5,
   "metadata": {},
   "outputs": [],
   "source": [
    "df1 = sonora_df.loc[:,[\"FECHA_INGRESO\",\"FECHA_SINTOMAS\",\"FECHA_DEF\"]].sort_values([\"FECHA_SINTOMAS\",\"FECHA_DEF\"])"
   ]
  },
  {
   "cell_type": "code",
   "execution_count": 6,
   "metadata": {},
   "outputs": [
    {
     "data": {
      "text/html": [
       "<div>\n",
       "<style scoped>\n",
       "    .dataframe tbody tr th:only-of-type {\n",
       "        vertical-align: middle;\n",
       "    }\n",
       "\n",
       "    .dataframe tbody tr th {\n",
       "        vertical-align: top;\n",
       "    }\n",
       "\n",
       "    .dataframe thead th {\n",
       "        text-align: right;\n",
       "    }\n",
       "</style>\n",
       "<table border=\"1\" class=\"dataframe\">\n",
       "  <thead>\n",
       "    <tr style=\"text-align: right;\">\n",
       "      <th></th>\n",
       "      <th>FECHA_INGRESO</th>\n",
       "      <th>FECHA_SINTOMAS</th>\n",
       "      <th>FECHA_DEF</th>\n",
       "    </tr>\n",
       "  </thead>\n",
       "  <tbody>\n",
       "    <tr>\n",
       "      <th>41544</th>\n",
       "      <td>2020-01-06</td>\n",
       "      <td>2020-01-06</td>\n",
       "      <td>9999-99-99</td>\n",
       "    </tr>\n",
       "    <tr>\n",
       "      <th>43855</th>\n",
       "      <td>2020-01-08</td>\n",
       "      <td>2020-01-06</td>\n",
       "      <td>9999-99-99</td>\n",
       "    </tr>\n",
       "    <tr>\n",
       "      <th>45932</th>\n",
       "      <td>2020-01-14</td>\n",
       "      <td>2020-01-10</td>\n",
       "      <td>9999-99-99</td>\n",
       "    </tr>\n",
       "    <tr>\n",
       "      <th>41552</th>\n",
       "      <td>2020-01-15</td>\n",
       "      <td>2020-01-11</td>\n",
       "      <td>9999-99-99</td>\n",
       "    </tr>\n",
       "    <tr>\n",
       "      <th>44915</th>\n",
       "      <td>2020-01-14</td>\n",
       "      <td>2020-01-11</td>\n",
       "      <td>9999-99-99</td>\n",
       "    </tr>\n",
       "    <tr>\n",
       "      <th>...</th>\n",
       "      <td>...</td>\n",
       "      <td>...</td>\n",
       "      <td>...</td>\n",
       "    </tr>\n",
       "    <tr>\n",
       "      <th>133147</th>\n",
       "      <td>2020-05-10</td>\n",
       "      <td>2020-05-09</td>\n",
       "      <td>9999-99-99</td>\n",
       "    </tr>\n",
       "    <tr>\n",
       "      <th>133346</th>\n",
       "      <td>2020-05-10</td>\n",
       "      <td>2020-05-09</td>\n",
       "      <td>9999-99-99</td>\n",
       "    </tr>\n",
       "    <tr>\n",
       "      <th>133792</th>\n",
       "      <td>2020-05-11</td>\n",
       "      <td>2020-05-09</td>\n",
       "      <td>9999-99-99</td>\n",
       "    </tr>\n",
       "    <tr>\n",
       "      <th>134901</th>\n",
       "      <td>2020-05-11</td>\n",
       "      <td>2020-05-09</td>\n",
       "      <td>9999-99-99</td>\n",
       "    </tr>\n",
       "    <tr>\n",
       "      <th>130477</th>\n",
       "      <td>2020-05-11</td>\n",
       "      <td>2020-05-10</td>\n",
       "      <td>9999-99-99</td>\n",
       "    </tr>\n",
       "  </tbody>\n",
       "</table>\n",
       "<p>2174 rows × 3 columns</p>\n",
       "</div>"
      ],
      "text/plain": [
       "       FECHA_INGRESO FECHA_SINTOMAS   FECHA_DEF\n",
       "41544     2020-01-06     2020-01-06  9999-99-99\n",
       "43855     2020-01-08     2020-01-06  9999-99-99\n",
       "45932     2020-01-14     2020-01-10  9999-99-99\n",
       "41552     2020-01-15     2020-01-11  9999-99-99\n",
       "44915     2020-01-14     2020-01-11  9999-99-99\n",
       "...              ...            ...         ...\n",
       "133147    2020-05-10     2020-05-09  9999-99-99\n",
       "133346    2020-05-10     2020-05-09  9999-99-99\n",
       "133792    2020-05-11     2020-05-09  9999-99-99\n",
       "134901    2020-05-11     2020-05-09  9999-99-99\n",
       "130477    2020-05-11     2020-05-10  9999-99-99\n",
       "\n",
       "[2174 rows x 3 columns]"
      ]
     },
     "execution_count": 6,
     "metadata": {},
     "output_type": "execute_result"
    },
    {
     "data": {
      "text/html": [
       "<div>\n",
       "<style scoped>\n",
       "    .dataframe tbody tr th:only-of-type {\n",
       "        vertical-align: middle;\n",
       "    }\n",
       "\n",
       "    .dataframe tbody tr th {\n",
       "        vertical-align: top;\n",
       "    }\n",
       "\n",
       "    .dataframe thead th {\n",
       "        text-align: right;\n",
       "    }\n",
       "</style>\n",
       "<table border=\"1\" class=\"dataframe\">\n",
       "  <thead>\n",
       "    <tr style=\"text-align: right;\">\n",
       "      <th></th>\n",
       "      <th>FECHA_INGRESO</th>\n",
       "      <th>FECHA_SINTOMAS</th>\n",
       "      <th>FECHA_DEF</th>\n",
       "    </tr>\n",
       "  </thead>\n",
       "  <tbody>\n",
       "    <tr>\n",
       "      <th>41544</th>\n",
       "      <td>2020-01-06</td>\n",
       "      <td>2020-01-06</td>\n",
       "      <td>9999-99-99</td>\n",
       "    </tr>\n",
       "    <tr>\n",
       "      <th>43855</th>\n",
       "      <td>2020-01-08</td>\n",
       "      <td>2020-01-06</td>\n",
       "      <td>9999-99-99</td>\n",
       "    </tr>\n",
       "    <tr>\n",
       "      <th>45932</th>\n",
       "      <td>2020-01-14</td>\n",
       "      <td>2020-01-10</td>\n",
       "      <td>9999-99-99</td>\n",
       "    </tr>\n",
       "    <tr>\n",
       "      <th>41552</th>\n",
       "      <td>2020-01-15</td>\n",
       "      <td>2020-01-11</td>\n",
       "      <td>9999-99-99</td>\n",
       "    </tr>\n",
       "    <tr>\n",
       "      <th>44915</th>\n",
       "      <td>2020-01-14</td>\n",
       "      <td>2020-01-11</td>\n",
       "      <td>9999-99-99</td>\n",
       "    </tr>\n",
       "    <tr>\n",
       "      <th>...</th>\n",
       "      <td>...</td>\n",
       "      <td>...</td>\n",
       "      <td>...</td>\n",
       "    </tr>\n",
       "    <tr>\n",
       "      <th>133147</th>\n",
       "      <td>2020-05-10</td>\n",
       "      <td>2020-05-09</td>\n",
       "      <td>9999-99-99</td>\n",
       "    </tr>\n",
       "    <tr>\n",
       "      <th>133346</th>\n",
       "      <td>2020-05-10</td>\n",
       "      <td>2020-05-09</td>\n",
       "      <td>9999-99-99</td>\n",
       "    </tr>\n",
       "    <tr>\n",
       "      <th>133792</th>\n",
       "      <td>2020-05-11</td>\n",
       "      <td>2020-05-09</td>\n",
       "      <td>9999-99-99</td>\n",
       "    </tr>\n",
       "    <tr>\n",
       "      <th>134901</th>\n",
       "      <td>2020-05-11</td>\n",
       "      <td>2020-05-09</td>\n",
       "      <td>9999-99-99</td>\n",
       "    </tr>\n",
       "    <tr>\n",
       "      <th>130477</th>\n",
       "      <td>2020-05-11</td>\n",
       "      <td>2020-05-10</td>\n",
       "      <td>9999-99-99</td>\n",
       "    </tr>\n",
       "  </tbody>\n",
       "</table>\n",
       "<p>2174 rows × 3 columns</p>\n",
       "</div>"
      ],
      "text/plain": [
       "       FECHA_INGRESO FECHA_SINTOMAS   FECHA_DEF\n",
       "41544     2020-01-06     2020-01-06  9999-99-99\n",
       "43855     2020-01-08     2020-01-06  9999-99-99\n",
       "45932     2020-01-14     2020-01-10  9999-99-99\n",
       "41552     2020-01-15     2020-01-11  9999-99-99\n",
       "44915     2020-01-14     2020-01-11  9999-99-99\n",
       "...              ...            ...         ...\n",
       "133147    2020-05-10     2020-05-09  9999-99-99\n",
       "133346    2020-05-10     2020-05-09  9999-99-99\n",
       "133792    2020-05-11     2020-05-09  9999-99-99\n",
       "134901    2020-05-11     2020-05-09  9999-99-99\n",
       "130477    2020-05-11     2020-05-10  9999-99-99\n",
       "\n",
       "[2174 rows x 3 columns]"
      ]
     },
     "execution_count": 6,
     "metadata": {},
     "output_type": "execute_result"
    }
   ],
   "source": [
    "sonora_df"
   ]
  },
  {
   "cell_type": "code",
   "execution_count": 7,
   "metadata": {},
   "outputs": [
    {
     "data": {
      "text/plain": [
       "335       9999-99-99\n",
       "956       9999-99-99\n",
       "1045      9999-99-99\n",
       "1160      9999-99-99\n",
       "1288      9999-99-99\n",
       "             ...    \n",
       "135039    9999-99-99\n",
       "135046    9999-99-99\n",
       "135047    9999-99-99\n",
       "135068    9999-99-99\n",
       "135069    9999-99-99\n",
       "Name: FECHA_DEF, Length: 2174, dtype: object"
      ]
     },
     "execution_count": 7,
     "metadata": {},
     "output_type": "execute_result"
    },
    {
     "data": {
      "text/plain": [
       "335       9999-99-99\n",
       "956       9999-99-99\n",
       "1045      9999-99-99\n",
       "1160      9999-99-99\n",
       "1288      9999-99-99\n",
       "             ...    \n",
       "135039    9999-99-99\n",
       "135046    9999-99-99\n",
       "135047    9999-99-99\n",
       "135068    9999-99-99\n",
       "135069    9999-99-99\n",
       "Name: FECHA_DEF, Length: 2174, dtype: object"
      ]
     },
     "execution_count": 7,
     "metadata": {},
     "output_type": "execute_result"
    }
   ],
   "source": [
    "df1"
   ]
  },
  {
   "cell_type": "code",
   "execution_count": null,
   "metadata": {},
   "outputs": [],
   "source": []
  }
 ],
 "metadata": {
  "kernelspec": {
   "display_name": "Python 3",
   "language": "python",
   "name": "python3"
  },
  "language_info": {
   "codemirror_mode": {
    "name": "ipython",
    "version": 3
   },
   "file_extension": ".py",
   "mimetype": "text/x-python",
   "name": "python",
   "nbconvert_exporter": "python",
   "pygments_lexer": "ipython3",
   "version": "3.7.6"
  }
 },
 "nbformat": 4,
 "nbformat_minor": 4
}
