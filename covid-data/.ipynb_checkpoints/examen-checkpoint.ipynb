{
 "cells": [
  {
   "cell_type": "code",
   "execution_count": 1,
   "metadata": {},
   "outputs": [],
   "source": [
    "#se importan librerias\n",
    "import pandas as pd\n",
    "import numpy as np\n",
    "from datetime import datetime as dt\n",
    "from datetime import timedelta as delta\n",
    "from matplotlib import pyplot as plt\n",
    "from matplotlib import dates as mpd"
   ]
  },
  {
   "cell_type": "code",
   "execution_count": 2,
   "metadata": {},
   "outputs": [],
   "source": [
    "#lectura de archivo y asignación de variable para el data frame.\n",
    "#Se le asigna engine para evitar errores de lectura por formato.\n",
    "df = pd.read_csv(\"200511COVID19MEXICO.csv\", engine=\"python\") "
   ]
  },
  {
   "cell_type": "code",
   "execution_count": 3,
   "metadata": {},
   "outputs": [],
   "source": [
    "#se crea variable de df1 para dataframe de sonora\n",
    "df1 = df[(df[\"ENTIDAD_UM\"]==26)]"
   ]
  },
  {
   "cell_type": "code",
   "execution_count": 4,
   "metadata": {
    "scrolled": true
   },
   "outputs": [],
   "source": [
    "#se localizan las columnas dentro del data frame y se filtran\n",
    "df1 = df1.loc[:,[\"FECHA_INGRESO\",\"FECHA_SINTOMAS\",\"FECHA_DEF\"]]"
   ]
  },
  {
   "cell_type": "code",
   "execution_count": 5,
   "metadata": {},
   "outputs": [],
   "source": [
    "#se organizan las columnas del data frame por fecha de defuncion, sintomas y de ingreso.\n",
    "df1 = df1.sort_values([\"FECHA_DEF\",\"FECHA_SINTOMAS\",\"FECHA_INGRESO\"])"
   ]
  },
  {
   "cell_type": "code",
   "execution_count": 6,
   "metadata": {},
   "outputs": [
    {
     "data": {
      "text/html": [
       "<div>\n",
       "<style scoped>\n",
       "    .dataframe tbody tr th:only-of-type {\n",
       "        vertical-align: middle;\n",
       "    }\n",
       "\n",
       "    .dataframe tbody tr th {\n",
       "        vertical-align: top;\n",
       "    }\n",
       "\n",
       "    .dataframe thead th {\n",
       "        text-align: right;\n",
       "    }\n",
       "</style>\n",
       "<table border=\"1\" class=\"dataframe\">\n",
       "  <thead>\n",
       "    <tr style=\"text-align: right;\">\n",
       "      <th></th>\n",
       "      <th>FECHA_INGRESO</th>\n",
       "      <th>FECHA_SINTOMAS</th>\n",
       "      <th>FECHA_DEF</th>\n",
       "    </tr>\n",
       "  </thead>\n",
       "  <tbody>\n",
       "    <tr>\n",
       "      <th>54867</th>\n",
       "      <td>2020-03-18</td>\n",
       "      <td>2020-03-11</td>\n",
       "      <td>2020-03-18</td>\n",
       "    </tr>\n",
       "    <tr>\n",
       "      <th>38049</th>\n",
       "      <td>2020-03-27</td>\n",
       "      <td>2020-03-27</td>\n",
       "      <td>2020-03-29</td>\n",
       "    </tr>\n",
       "    <tr>\n",
       "      <th>75296</th>\n",
       "      <td>2020-03-23</td>\n",
       "      <td>2020-03-20</td>\n",
       "      <td>2020-03-30</td>\n",
       "    </tr>\n",
       "    <tr>\n",
       "      <th>18958</th>\n",
       "      <td>2020-03-24</td>\n",
       "      <td>2020-03-24</td>\n",
       "      <td>2020-03-30</td>\n",
       "    </tr>\n",
       "    <tr>\n",
       "      <th>80028</th>\n",
       "      <td>2020-03-27</td>\n",
       "      <td>2020-03-27</td>\n",
       "      <td>2020-03-31</td>\n",
       "    </tr>\n",
       "    <tr>\n",
       "      <th>...</th>\n",
       "      <td>...</td>\n",
       "      <td>...</td>\n",
       "      <td>...</td>\n",
       "    </tr>\n",
       "    <tr>\n",
       "      <th>133346</th>\n",
       "      <td>2020-05-10</td>\n",
       "      <td>2020-05-09</td>\n",
       "      <td>9999-99-99</td>\n",
       "    </tr>\n",
       "    <tr>\n",
       "      <th>126203</th>\n",
       "      <td>2020-05-11</td>\n",
       "      <td>2020-05-09</td>\n",
       "      <td>9999-99-99</td>\n",
       "    </tr>\n",
       "    <tr>\n",
       "      <th>133792</th>\n",
       "      <td>2020-05-11</td>\n",
       "      <td>2020-05-09</td>\n",
       "      <td>9999-99-99</td>\n",
       "    </tr>\n",
       "    <tr>\n",
       "      <th>134901</th>\n",
       "      <td>2020-05-11</td>\n",
       "      <td>2020-05-09</td>\n",
       "      <td>9999-99-99</td>\n",
       "    </tr>\n",
       "    <tr>\n",
       "      <th>130477</th>\n",
       "      <td>2020-05-11</td>\n",
       "      <td>2020-05-10</td>\n",
       "      <td>9999-99-99</td>\n",
       "    </tr>\n",
       "  </tbody>\n",
       "</table>\n",
       "<p>2174 rows × 3 columns</p>\n",
       "</div>"
      ],
      "text/plain": [
       "       FECHA_INGRESO FECHA_SINTOMAS   FECHA_DEF\n",
       "54867     2020-03-18     2020-03-11  2020-03-18\n",
       "38049     2020-03-27     2020-03-27  2020-03-29\n",
       "75296     2020-03-23     2020-03-20  2020-03-30\n",
       "18958     2020-03-24     2020-03-24  2020-03-30\n",
       "80028     2020-03-27     2020-03-27  2020-03-31\n",
       "...              ...            ...         ...\n",
       "133346    2020-05-10     2020-05-09  9999-99-99\n",
       "126203    2020-05-11     2020-05-09  9999-99-99\n",
       "133792    2020-05-11     2020-05-09  9999-99-99\n",
       "134901    2020-05-11     2020-05-09  9999-99-99\n",
       "130477    2020-05-11     2020-05-10  9999-99-99\n",
       "\n",
       "[2174 rows x 3 columns]"
      ]
     },
     "execution_count": 6,
     "metadata": {},
     "output_type": "execute_result"
    }
   ],
   "source": [
    "#exporta tabla del data frame correspondiente a Sonora (df1)\n",
    "# df1.to_csv(\"tabla1.csv\")\n",
    "df1"
   ]
  },
  {
   "cell_type": "code",
   "execution_count": 7,
   "metadata": {},
   "outputs": [],
   "source": [
    "#se seleccionan estados a evaluar y tipo de atención\n",
    "#se reemplazan valores numericos por hilos acorde a abreviatura del estado\n",
    "df2 = df[(df[\"TIPO_PACIENTE\"]==2)]\n",
    "df2 = df2.loc[:,[\"ENTIDAD_UM\"]]\n",
    "df2[\"ENTIDAD_UM\"] = df2[\"ENTIDAD_UM\"].map({26:\"SR\", 8:\"CH\", 19:\"NL\", 21:\"PL\"})\n",
    "df2 = df2[\"ENTIDAD_UM\"].value_counts().reset_index()"
   ]
  },
  {
   "cell_type": "code",
   "execution_count": 8,
   "metadata": {},
   "outputs": [
    {
     "data": {
      "text/html": [
       "<div>\n",
       "<style scoped>\n",
       "    .dataframe tbody tr th:only-of-type {\n",
       "        vertical-align: middle;\n",
       "    }\n",
       "\n",
       "    .dataframe tbody tr th {\n",
       "        vertical-align: top;\n",
       "    }\n",
       "\n",
       "    .dataframe thead th {\n",
       "        text-align: right;\n",
       "    }\n",
       "</style>\n",
       "<table border=\"1\" class=\"dataframe\">\n",
       "  <thead>\n",
       "    <tr style=\"text-align: right;\">\n",
       "      <th></th>\n",
       "      <th>index</th>\n",
       "      <th>ENTIDAD_UM</th>\n",
       "    </tr>\n",
       "  </thead>\n",
       "  <tbody>\n",
       "    <tr>\n",
       "      <th>0</th>\n",
       "      <td>PL</td>\n",
       "      <td>1301</td>\n",
       "    </tr>\n",
       "    <tr>\n",
       "      <th>1</th>\n",
       "      <td>NL</td>\n",
       "      <td>1089</td>\n",
       "    </tr>\n",
       "    <tr>\n",
       "      <th>2</th>\n",
       "      <td>CH</td>\n",
       "      <td>1013</td>\n",
       "    </tr>\n",
       "    <tr>\n",
       "      <th>3</th>\n",
       "      <td>SR</td>\n",
       "      <td>549</td>\n",
       "    </tr>\n",
       "  </tbody>\n",
       "</table>\n",
       "</div>"
      ],
      "text/plain": [
       "  index  ENTIDAD_UM\n",
       "0    PL        1301\n",
       "1    NL        1089\n",
       "2    CH        1013\n",
       "3    SR         549"
      ]
     },
     "execution_count": 8,
     "metadata": {},
     "output_type": "execute_result"
    }
   ],
   "source": [
    "#exporta tabla del data frame correspondiente a numero de casos en estados\n",
    "#df2.to_csv(\"tabla2.csv\")\n",
    "df2"
   ]
  },
  {
   "cell_type": "code",
   "execution_count": 9,
   "metadata": {},
   "outputs": [
    {
     "data": {
      "image/png": "[encoded data removed]",
      "text/plain": [
       "<Figure size 720x360 with 1 Axes>"
      ]
     },
     "metadata": {
      "needs_background": "light"
     },
     "output_type": "display_data"
    }
   ],
   "source": [
    "#creación de barra horizontal y .png\n",
    "g1 = df2.plot.bar(figsize=(10, 5))\n",
    "#g1.figure.savefig(\"grafica1.png\")"
   ]
  },
  {
   "cell_type": "code",
   "execution_count": 10,
   "metadata": {},
   "outputs": [],
   "source": [
    "#Agrupación de registros por día\n",
    "df3 = df.groupby(\"FECHA_INGRESO\")[\"ID_REGISTRO\"].nunique().reset_index()"
   ]
  },
  {
   "cell_type": "code",
   "execution_count": 23,
   "metadata": {},
   "outputs": [
    {
     "data": {
      "image/png": "[encoded data removed]",
      "text/plain": [
       "<Figure size 576x396 with 1 Axes>"
      ]
     },
     "metadata": {},
     "output_type": "display_data"
    },
    {
     "data": {
      "text/plain": [
       "<Figure size 21600x720 with 0 Axes>"
      ]
     },
     "metadata": {},
     "output_type": "display_data"
    }
   ],
   "source": [
    "#Asignación de estilo de ploteo\n",
    "df3[\"FECHA_INGRESO\"] = pd.to_datetime(df3[\"FECHA_INGRESO\"])\n",
    "df3.sort_values(\"FECHA_INGRESO\", inplace=True)\n",
    "plt.style.use(\"seaborn\")\n",
    "plt.plot_date(df3[\"FECHA_INGRESO\"] ,df3[\"ID_REGISTRO\"], linestyle=\"solid\")\n",
    "plt.figure(figsize=(300, 10))\n",
    "plt.gcf().autofmt_xdate()\n",
    "plt.xlabel(\"FECHA\")\n",
    "plt.ylabel(\"CASOS\")\n",
    "locator = mpd.MonthLocator()\n",
    "fmt = mpd.DateFormatter('%b')\n",
    "plt.plot(df3[\"FECHA_INGRESO\"], df3[\"ID_REGISTRO\"])\n",
    "X = plt.gca().xaxis\n",
    "X.set_major_locator(locator)\n",
    "X.set_major_formatter(fmt)\n",
    "\n",
    "plt.show()"
   ]
  },
  {
   "cell_type": "code",
   "execution_count": null,
   "metadata": {},
   "outputs": [],
   "source": []
  },
  {
   "cell_type": "code",
   "execution_count": null,
   "metadata": {},
   "outputs": [],
   "source": []
  }
 ],
 "metadata": {
  "kernelspec": {
   "display_name": "Python 3",
   "language": "python",
   "name": "python3"
  },
  "language_info": {
   "codemirror_mode": {
    "name": "ipython",
    "version": 3
   },
   "file_extension": ".py",
   "mimetype": "text/x-python",
   "name": "python",
   "nbconvert_exporter": "python",
   "pygments_lexer": "ipython3",
   "version": "3.7.6"
  }
 },
 "nbformat": 4,
 "nbformat_minor": 4
}
