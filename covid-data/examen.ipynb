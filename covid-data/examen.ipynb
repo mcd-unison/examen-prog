{
 "cells": [
  {
   "cell_type": "code",
   "execution_count": 1,
   "metadata": {},
   "outputs": [],
   "source": [
    "#se importan librerias"
   ]
  },
  {
   "cell_type": "code",
   "execution_count": 2,
   "metadata": {},
   "outputs": [],
   "source": [
    "import pandas as pd\n",
    "from matplotlib import pyplot as plot"
   ]
  },
  {
   "cell_type": "code",
   "execution_count": 3,
   "metadata": {},
   "outputs": [],
   "source": [
    "#lectura de archivo y asignación de variable para el data frame.\n",
    "#Se le asigna engine para evitar errores de lectura por formato.\n",
    "df = pd.read_csv(\"200511COVID19MEXICO.csv\", engine=\"python\") "
   ]
  },
  {
   "cell_type": "code",
   "execution_count": 4,
   "metadata": {},
   "outputs": [],
   "source": [
    "#se crea variable de df1 para dataframe de sonora\n",
    "df1 = df[(df[\"ENTIDAD_UM\"]==26)]"
   ]
  },
  {
   "cell_type": "code",
   "execution_count": 5,
   "metadata": {
    "scrolled": true
   },
   "outputs": [],
   "source": [
    "#se localizan las columnas dentro del data frame y se filtran\n",
    "df1 = df1.loc[:,[\"FECHA_INGRESO\",\"FECHA_SINTOMAS\",\"FECHA_DEF\"]]"
   ]
  },
  {
   "cell_type": "code",
   "execution_count": 6,
   "metadata": {},
   "outputs": [],
   "source": [
    "#se organizan las columnas del data frame por fecha de defuncion, sintomas y de ingreso.\n",
    "df1 = df1.sort_values([\"FECHA_DEF\",\"FECHA_SINTOMAS\",\"FECHA_INGRESO\"])"
   ]
  },
  {
   "cell_type": "code",
   "execution_count": 7,
   "metadata": {},
   "outputs": [],
   "source": [
    "#exporta tabla del data frame correspondiente a Sonora (df1)\n",
    "# df1.to_csv(\"tabla1.csv\")"
   ]
  },
  {
   "cell_type": "code",
   "execution_count": 9,
   "metadata": {},
   "outputs": [],
   "source": [
    "#se seleccionan estados a evaluar y tipo de atención\n",
    "#se reemplazan valores numericos por hilos acorde a nombre del estado\n",
    "df2 = df[(df[\"TIPO_PACIENTE\"]==2)]\n",
    "df2 = df2.loc[:,[\"ENTIDAD_UM\"]]\n",
    "df2[\"ENTIDAD_UM\"] = df2[\"ENTIDAD_UM\"].map({26:\"Sonora\", 8:\"Chihuahua\", 19:\"Nuevo León\", 21:\"Puebla\"})\n",
    "df2 = df2[\"ENTIDAD_UM\"].value_counts()"
   ]
  },
  {
   "cell_type": "code",
   "execution_count": 11,
   "metadata": {},
   "outputs": [
    {
     "data": {
      "text/plain": [
       "Puebla        1301\n",
       "Nuevo León    1089\n",
       "Chihuahua     1013\n",
       "Sonora         549\n",
       "Name: ENTIDAD_UM, dtype: int64"
      ]
     },
     "execution_count": 11,
     "metadata": {},
     "output_type": "execute_result"
    }
   ],
   "source": [
    "# df2.to_csv(\"tabla2.csv\")"
   ]
  },
  {
   "cell_type": "markdown",
   "metadata": {},
   "source": []
  }
 ],
 "metadata": {
  "kernelspec": {
   "display_name": "Python 3",
   "language": "python",
   "name": "python3"
  },
  "language_info": {
   "codemirror_mode": {
    "name": "ipython",
    "version": 3
   },
   "file_extension": ".py",
   "mimetype": "text/x-python",
   "name": "python",
   "nbconvert_exporter": "python",
   "pygments_lexer": "ipython3",
   "version": "3.7.6"
  }
 },
 "nbformat": 4,
 "nbformat_minor": 4
}
